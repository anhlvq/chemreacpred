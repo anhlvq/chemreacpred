{
 "cells": [
  {
   "cell_type": "code",
   "execution_count": 1,
   "metadata": {},
   "outputs": [],
   "source": [
    "import numpy as np\n",
    "import pandas as pd\n",
    "import os\n",
    "from utils.config import path_dir_descriptor, path_dir_data, path_dir_tsOutput, Poly_degree, path_file_mapping\n",
    "from datapre.preprocessTools import loadTrainingDataFeatures\n",
    "from sklearn import preprocessing\n",
    "# Load feature matrix\n",
    "\n",
    "iD, X = loadTrainingDataFeatures(isNormalized=False)"
   ]
  },
  {
   "cell_type": "code",
   "execution_count": 2,
   "metadata": {
    "pycharm": {
     "name": "#%%\n"
    }
   },
   "outputs": [
    {
     "name": "stdout",
     "output_type": "stream",
     "text": [
      "[['Sub-A_CA-A_Hyd-A_LigS-A']\n",
      " ['Sub-A_CA-A_Hyd-A_LigS-B']\n",
      " ['Sub-A_CA-A_Hyd-A_LigS-C']\n",
      " ...\n",
      " ['Sub-AC_Base-E_Oxo-F_LigA-D']\n",
      " ['Sub-AC_Base-E_Oxo-F_LigA-E']\n",
      " ['Sub-AC_Base-E_Oxo-F_LigA-F']]\n",
      "41760\n"
     ]
    }
   ],
   "source": [
    "\n",
    "print(iD)\n",
    "print(iD.size)"
   ]
  },
  {
   "cell_type": "code",
   "execution_count": 4,
   "metadata": {
    "pycharm": {
     "name": "#%%\n"
    }
   },
   "outputs": [
    {
     "name": "stdout",
     "output_type": "stream",
     "text": [
      "[[ 5.01     1.96     6.2     ... -0.38617 -0.29817 -0.01879]\n",
      " [ 5.01     1.96     6.2     ... -0.36939 -0.32463 -0.04688]\n",
      " [ 5.01     1.96     6.2     ... -0.39388 -0.29351 -0.01451]\n",
      " ...\n",
      " [ 4.82     2.65     5.36    ... -0.44773 -0.28832 -0.01581]\n",
      " [ 4.82     2.65     5.36    ... -0.43029 -0.28423 -0.01779]\n",
      " [ 4.82     2.65     5.36    ... -0.39028 -0.27518 -0.02313]]\n",
      "(41760, 32)\n"
     ]
    }
   ],
   "source": [
    "print(X)\n",
    "print(X.shape)"
   ]
  },
  {
   "cell_type": "code",
   "execution_count": 39,
   "metadata": {
    "pycharm": {
     "name": "#%%\n"
    }
   },
   "outputs": [
    {
     "name": "stdout",
     "output_type": "stream",
     "text": [
      "[[ 5.01     1.96     6.2     ... -0.36939 -0.32463 -0.04688]\n",
      " [ 5.01     1.96     6.2     ... -0.39388 -0.29351 -0.01451]\n",
      " [ 5.01     1.96     6.2     ... -0.41186 -0.29588 -0.00867]\n",
      " ...\n",
      " [ 4.82     2.65     5.36    ... -0.44773 -0.28832 -0.01581]\n",
      " [ 4.82     2.65     5.36    ... -0.43029 -0.28423 -0.01779]\n",
      " [ 4.82     2.65     5.36    ... -0.39028 -0.27518 -0.02313]]\n"
     ]
    }
   ],
   "source": [
    "\n",
    "X1 = X[1:50000,:]\n",
    "print(X1)"
   ]
  },
  {
   "cell_type": "code",
   "execution_count": null,
   "metadata": {},
   "outputs": [],
   "source": [
    "from sklearn_extra.cluster import KMedoids\n",
    "kmedoids = KMedoids(n_clusters=2, random_state=0).fit(X1)"
   ]
  },
  {
   "cell_type": "code",
   "execution_count": null,
   "metadata": {},
   "outputs": [],
   "source": [
    "kmedoids.labels_"
   ]
  },
  {
   "cell_type": "code",
   "execution_count": null,
   "metadata": {},
   "outputs": [],
   "source": [
    "kmedoids.cluster_centers_"
   ]
  },
  {
   "cell_type": "code",
   "execution_count": null,
   "metadata": {},
   "outputs": [],
   "source": []
  },
  {
   "cell_type": "code",
   "execution_count": null,
   "metadata": {},
   "outputs": [],
   "source": []
  }
 ],
 "metadata": {
  "kernelspec": {
   "display_name": "Python 3",
   "language": "python",
   "name": "python3"
  },
  "language_info": {
   "codemirror_mode": {
    "name": "ipython",
    "version": 3
   },
   "file_extension": ".py",
   "mimetype": "text/x-python",
   "name": "python",
   "nbconvert_exporter": "python",
   "pygments_lexer": "ipython3",
   "version": "3.8.3"
  }
 },
 "nbformat": 4,
 "nbformat_minor": 1
}