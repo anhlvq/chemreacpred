{
 "cells": [
  {
   "cell_type": "code",
   "execution_count": 1,
   "metadata": {},
   "outputs": [],
   "source": [
    "import numpy as np\n",
    "import pandas as pd\n",
    "import os\n",
    "from utils.config import path_dir_descriptor, path_dir_data, path_dir_tsOutput, Poly_degree, path_file_mapping\n",
    "from datapre.preprocessTools import loadTrainingDataFeatures\n",
    "from sklearn import preprocessing\n",
    "# Load feature matrix\n",
    "\n",
    "iD, X = loadTrainingDataFeatures(isNormalized=True)"
   ]
  },
  {
   "cell_type": "code",
   "execution_count": 2,
   "metadata": {
    "pycharm": {
     "name": "#%%\n"
    }
   },
   "outputs": [
    {
     "name": "stdout",
     "output_type": "stream",
     "text": [
      "[['Sub-A_CA-A_Hyd-A_LigS-A']\n",
      " ['Sub-A_CA-A_Hyd-A_LigS-B']\n",
      " ['Sub-A_CA-A_Hyd-A_LigS-C']\n",
      " ...\n",
      " ['Sub-AC_Base-E_Oxo-F_LigA-D']\n",
      " ['Sub-AC_Base-E_Oxo-F_LigA-E']\n",
      " ['Sub-AC_Base-E_Oxo-F_LigA-F']]\n",
      "41760\n"
     ]
    }
   ],
   "source": [
    "\n",
    "print(iD)\n",
    "print(iD.size)"
   ]
  },
  {
   "cell_type": "code",
   "execution_count": 3,
   "metadata": {
    "pycharm": {
     "name": "#%%\n"
    }
   },
   "outputs": [
    {
     "name": "stdout",
     "output_type": "stream",
     "text": [
      "[[-7.24498693e-01 -7.55462047e-01 -2.62020539e-01 ...  8.95951640e-01\n",
      "  -3.28329459e-01  3.46483461e-01]\n",
      " [-7.24498693e-01 -7.55462047e-01 -2.62020539e-01 ...  1.65038990e+00\n",
      "  -2.18564586e+00 -1.81874912e+00]\n",
      " [-7.24498693e-01 -7.55462047e-01 -2.62020539e-01 ...  5.49305691e-01\n",
      "  -1.22838386e-03  6.76394299e-01]\n",
      " ...\n",
      " [-1.05197923e+00  1.52116379e+00 -1.11419949e+00 ... -1.87182068e+00\n",
      "   3.63075174e-01  5.76187736e-01]\n",
      " [-1.05197923e+00  1.52116379e+00 -1.11419949e+00 ... -1.08770845e+00\n",
      "   6.50166031e-01  4.23565433e-01]\n",
      " [-1.05197923e+00  1.52116379e+00 -1.11419949e+00 ...  7.11163721e-01\n",
      "   1.28541597e+00  1.19477056e-02]]\n",
      "(41760, 32)\n"
     ]
    }
   ],
   "source": [
    "print(X)\n",
    "print(X.shape)"
   ]
  },
  {
   "cell_type": "code",
   "execution_count": null,
   "outputs": [],
   "source": [
    "from sklearn.decomposition import PCA\n",
    "pca = PCA(n_components=2)\n",
    "principalComponents = pca.fit_transform(X)\n",
    "principalDf = pd.DataFrame(data = principalComponents\n",
    "             , columns = ['principal component 1', 'principal component 2'])\n",
    "print(principalDf.shape)\n"
   ],
   "metadata": {
    "collapsed": false,
    "pycharm": {
     "name": "#%%\n"
    }
   }
  },
  {
   "cell_type": "code",
   "execution_count": null,
   "outputs": [],
   "source": [
    "import matplotlib.pyplot as plt\n",
    "fig = plt.figure(figsize = (8,8))\n",
    "ax = fig.add_subplot(1,1,1) \n",
    "ax.set_xlabel('Principal Component 1', fontsize = 15)\n",
    "ax.set_ylabel('Principal Component 2', fontsize = 15)\n",
    "ax.scatter(principalDf.loc[:, 'principal component 1']\n",
    "               , principalDf.loc[:, 'principal component 2']\n",
    "               , c = 'b'\n",
    "               , s = 50)\n",
    "ax.grid()"
   ],
   "metadata": {
    "collapsed": false,
    "pycharm": {
     "name": "#%%\n"
    }
   }
  },
  {
   "cell_type": "code",
   "execution_count": 8,
   "metadata": {},
   "outputs": [
    {
     "name": "stdout",
     "output_type": "stream",
     "text": [
      "(41760, 2)\n"
     ]
    }
   ],
   "source": [
    "\n",
    "X1 = X[1:10000,:]\n",
    "print(X1)"
   ]
  },
  {
   "cell_type": "code",
   "execution_count": 13,
   "metadata": {},
   "outputs": [
    {
     "data": {
      "image/png": "[encoded data removed]",
      "text/plain": [
       "<Figure size 576x576 with 1 Axes>"
      ]
     },
     "metadata": {
      "needs_background": "light"
     },
     "output_type": "display_data"
    }
   ],
   "source": [
    "import matplotlib.pyplot as plt\n",
    "fig = plt.figure(figsize = (8,8))\n",
    "ax = fig.add_subplot(1,1,1) \n",
    "ax.set_xlabel('Principal Component 1', fontsize = 15)\n",
    "ax.set_ylabel('Principal Component 2', fontsize = 15)\n",
    "ax.scatter(principalDf.loc[:, 'principal component 1']\n",
    "               , principalDf.loc[:, 'principal component 2']\n",
    "               , c = 'b'\n",
    "               , s = 50)\n",
    "ax.grid()"
   ]
  },
  {
   "cell_type": "code",
   "execution_count": 4,
   "metadata": {
    "pycharm": {
     "name": "#%%\n"
    }
   },
   "outputs": [
    {
     "name": "stdout",
     "output_type": "stream",
     "text": [
      "[[-7.24498693e-01 -7.55462047e-01 -2.62020539e-01 ...  1.65038990e+00\n",
      "  -2.18564586e+00 -1.81874912e+00]\n",
      " [-7.24498693e-01 -7.55462047e-01 -2.62020539e-01 ...  5.49305691e-01\n",
      "  -1.22838386e-03  6.76394299e-01]\n",
      " [-7.24498693e-01 -7.55462047e-01 -2.62020539e-01 ... -2.59085250e-01\n",
      "  -1.67586656e-01  1.12655301e+00]\n",
      " ...\n",
      " [ 1.20056387e-01  1.48816921e+00 -2.62020539e-01 ...  1.65038990e+00\n",
      "  -2.18564586e+00 -1.81874912e+00]\n",
      " [ 1.20056387e-01  1.48816921e+00 -2.62020539e-01 ...  5.49305691e-01\n",
      "  -1.22838386e-03  6.76394299e-01]\n",
      " [ 1.20056387e-01  1.48816921e+00 -2.62020539e-01 ... -2.59085250e-01\n",
      "  -1.67586656e-01  1.12655301e+00]]\n"
     ]
    }
   ],
   "source": [
    "\n",
    "X1 = X[1:10000,:]\n",
    "print(X1)"
   ]
  },
  {
   "cell_type": "code",
   "execution_count": 5,
   "metadata": {},
   "outputs": [],
   "source": [
    "from sklearn_extra.cluster import KMedoids\n",
    "kmedoids = KMedoids(n_clusters=2, random_state=0).fit(X1)"
   ]
  },
  {
   "cell_type": "code",
   "execution_count": 6,
   "metadata": {},
   "outputs": [
    {
     "data": {
      "text/plain": [
       "array([0, 0, 0, ..., 1, 1, 1])"
      ]
     },
     "execution_count": 6,
     "metadata": {},
     "output_type": "execute_result"
    }
   ],
   "source": [
    "kmedoids.labels_"
   ]
  },
  {
   "cell_type": "code",
   "execution_count": 7,
   "metadata": {},
   "outputs": [
    {
     "data": {
      "text/plain": [
       "array([[-0.44872561, -0.75546205,  1.02639287,  1.3586767 ,  0.50301765,\n",
       "        -0.72367738, -0.21962401,  0.07138266, -0.83503356, -0.0034729 ,\n",
       "        -1.16887229, -0.40482677, -0.61076569, -0.18414314, -1.14333335,\n",
       "        -1.17802268, -0.31426136, -0.37194424, -0.01206618, -0.69008205,\n",
       "        -0.9988205 , -1.03718608,  1.03855895,  1.03664131,  1.07006267,\n",
       "         0.        ,  0.        ,  0.        , -1.05861274, -0.79411596,\n",
       "         0.17916856, -0.20542345],\n",
       "       [-0.44872561, -0.75546205,  1.02639287,  1.3586767 ,  0.50301765,\n",
       "        -0.72367738, -0.21962401,  0.07138266, -0.83503356, -0.0034729 ,\n",
       "        -1.16887229, -0.40482677,  1.17005815, -0.267837  ,  0.77417228,\n",
       "         1.04426558, -0.31426136, -0.37194424, -0.01206618, -0.69008205,\n",
       "        -0.9988205 , -1.03718608,  1.03855895,  1.03664131,  1.07006267,\n",
       "         0.        ,  0.        ,  0.        , -1.05861274, -0.79411596,\n",
       "         0.17916856, -0.20542345]])"
      ]
     },
     "execution_count": 7,
     "metadata": {},
     "output_type": "execute_result"
    }
   ],
   "source": [
    "kmedoids.cluster_centers_"
   ]
  },
  {
   "cell_type": "code",
   "execution_count": null,
   "metadata": {},
   "outputs": [],
   "source": []
  },
  {
   "cell_type": "code",
   "execution_count": null,
   "metadata": {},
   "outputs": [],
   "source": []
  }
 ],
 "metadata": {
  "kernelspec": {
   "display_name": "Python 3",
   "language": "python",
   "name": "python3"
  },
  "language_info": {
   "codemirror_mode": {
    "name": "ipython",
    "version": 3
   },
   "file_extension": ".py",
   "mimetype": "text/x-python",
   "name": "python",
   "nbconvert_exporter": "python",
   "pygments_lexer": "ipython3",
   "version": "3.8.3"
  }
 },
 "nbformat": 4,
 "nbformat_minor": 1
}