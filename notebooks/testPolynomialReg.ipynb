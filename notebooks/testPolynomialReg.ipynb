{
 "cells": [
  {
   "cell_type": "code",
   "execution_count": 15,
   "metadata": {
    "pycharm": {
     "name": "#%%\n"
    }
   },
   "outputs": [],
   "source": [
    "# Step 1: Import packages\n",
    "import numpy as np\n",
    "import pandas as pd\n",
    "from sklearn.linear_model import LinearRegression\n",
    "from sklearn.preprocessing import PolynomialFeatures"
   ]
  },
  {
   "cell_type": "code",
   "execution_count": 16,
   "metadata": {
    "pycharm": {
     "name": "#%%\n"
    }
   },
   "outputs": [],
   "source": [
    "# Step 2a: Provide data\n",
    "x = [[0, 1], [5, 1], [15, 2], [25, 5], [35, 11], [45, 15], [55, 34], [60, 35]]\n",
    "y = [4, 5, 20, 14, 32, 22, 38, 43]\n",
    "x, y = np.array(x), np.array(y)"
   ]
  },
  {
   "cell_type": "code",
   "execution_count": 57,
   "metadata": {
    "pycharm": {
     "name": "#%%\n"
    }
   },
   "outputs": [
    {
     "name": "stdout",
     "output_type": "stream",
     "text": [
      "[ 6.24824265e-01  1.38891027e-03  6.24820032e-01  6.24951680e-03\n",
      "  1.34532134e-03  6.24816799e-01  2.32606036e-02  6.00177870e-03\n",
      "  1.34484440e-03  6.24804618e-01  4.61014368e-02  2.60019892e-02\n",
      "  6.03436936e-03  5.72024865e-04  6.24094475e-01 -3.81126409e-02\n",
      "  1.25783487e-01  2.29622563e-03 -2.33350867e-02 -2.23326980e-02\n",
      "  6.06334203e-01  3.70148957e-03 -2.22594895e-02  1.49698947e-02\n",
      "  9.65918526e-02 -7.75967169e-02 -2.64280170e-01  2.70305168e-01]\n"
     ]
    }
   ],
   "source": [
    "\n",
    "def PolyRegression(degree, x, y):\n",
    "    x_ = PolynomialFeatures(degree=degree, include_bias=True).fit_transform(x)\n",
    "    model = LinearRegression(fit_intercept=False).fit(x_, y)\n",
    "    return model.coef_\n",
    "\n",
    "\n",
    "coefficients = PolyRegression(degree=6, x = x, y = y )\n",
    "print(coefficients)"
   ]
  },
  {
   "cell_type": "code",
   "execution_count": 39,
   "metadata": {
    "pycharm": {
     "name": "#%%\n"
    }
   },
   "outputs": [],
   "source": [
    "# Step 5: Predict\n",
    "y_pred = model.predict(x_)"
   ]
  },
  {
   "cell_type": "code",
   "execution_count": null,
   "metadata": {
    "pycharm": {
     "name": "#%%\n"
    }
   },
   "outputs": [],
   "source": []
  },
  {
   "cell_type": "code",
   "execution_count": 65,
   "metadata": {
    "pycharm": {
     "name": "#%%\n"
    }
   },
   "outputs": [
    {
     "data": {
      "text/html": [
       "<div>\n",
       "<style scoped>\n",
       "    .dataframe tbody tr th:only-of-type {\n",
       "        vertical-align: middle;\n",
       "    }\n",
       "\n",
       "    .dataframe tbody tr th {\n",
       "        vertical-align: top;\n",
       "    }\n",
       "\n",
       "    .dataframe thead th {\n",
       "        text-align: right;\n",
       "    }\n",
       "</style>\n",
       "<table border=\"1\" class=\"dataframe\">\n",
       "  <thead>\n",
       "    <tr style=\"text-align: right;\">\n",
       "      <th></th>\n",
       "      <th>Time (min)</th>\n",
       "      <th>PD-029A</th>\n",
       "      <th>PD-029B</th>\n",
       "      <th>PD-031</th>\n",
       "      <th>PD-032</th>\n",
       "    </tr>\n",
       "  </thead>\n",
       "  <tbody>\n",
       "    <tr>\n",
       "      <th>0</th>\n",
       "      <td>0</td>\n",
       "      <td>0.085275</td>\n",
       "      <td>0.085275</td>\n",
       "      <td>0.038309</td>\n",
       "      <td>0.078106</td>\n",
       "    </tr>\n",
       "    <tr>\n",
       "      <th>1</th>\n",
       "      <td>31</td>\n",
       "      <td>0.071495</td>\n",
       "      <td>0.071922</td>\n",
       "      <td>0.036873</td>\n",
       "      <td>0.064141</td>\n",
       "    </tr>\n",
       "    <tr>\n",
       "      <th>2</th>\n",
       "      <td>92</td>\n",
       "      <td>0.065724</td>\n",
       "      <td>0.064109</td>\n",
       "      <td>0.029428</td>\n",
       "      <td>0.052064</td>\n",
       "    </tr>\n",
       "    <tr>\n",
       "      <th>3</th>\n",
       "      <td>156</td>\n",
       "      <td>0.048360</td>\n",
       "      <td>0.056039</td>\n",
       "      <td>0.024366</td>\n",
       "      <td>0.042424</td>\n",
       "    </tr>\n",
       "    <tr>\n",
       "      <th>4</th>\n",
       "      <td>212</td>\n",
       "      <td>0.044512</td>\n",
       "      <td>0.047081</td>\n",
       "      <td>0.019709</td>\n",
       "      <td>0.035081</td>\n",
       "    </tr>\n",
       "  </tbody>\n",
       "</table>\n",
       "</div>"
      ],
      "text/plain": [
       "   Time (min)   PD-029A   PD-029B    PD-031    PD-032\n",
       "0           0  0.085275  0.085275  0.038309  0.078106\n",
       "1          31  0.071495  0.071922  0.036873  0.064141\n",
       "2          92  0.065724  0.064109  0.029428  0.052064\n",
       "3         156  0.048360  0.056039  0.024366  0.042424\n",
       "4         212  0.044512  0.047081  0.019709  0.035081"
      ]
     },
     "execution_count": 65,
     "metadata": {},
     "output_type": "execute_result"
    }
   ],
   "source": [
    "fname = \"../data/2_intermediate/tsOutput/3PP.csv\"\n",
    "df = pd.read_csv(fname)\n",
    "df.head()"
   ]
  },
  {
   "cell_type": "code",
   "execution_count": 85,
   "metadata": {},
   "outputs": [
    {
     "name": "stdout",
     "output_type": "stream",
     "text": [
      "[ 8.31144297e-02 -2.55604804e-04  3.21726349e-07]\n"
     ]
    },
    {
     "ename": "IndexError",
     "evalue": "only integers, slices (`:`), ellipsis (`...`), numpy.newaxis (`None`) and integer or boolean arrays are valid indices",
     "output_type": "error",
     "traceback": [
      "\u001B[0;31m---------------------------------------------------------------------------\u001B[0m",
      "\u001B[0;31mIndexError\u001B[0m                                Traceback (most recent call last)",
      "\u001B[0;32m<ipython-input-85-4e93063703f3>\u001B[0m in \u001B[0;36m<module>\u001B[0;34m\u001B[0m\n\u001B[1;32m     12\u001B[0m \u001B[0mcoef_\u001B[0m \u001B[0;34m=\u001B[0m \u001B[0mPolyRegression\u001B[0m\u001B[0;34m(\u001B[0m\u001B[0mdegree\u001B[0m\u001B[0;34m=\u001B[0m\u001B[0;36m2\u001B[0m\u001B[0;34m,\u001B[0m \u001B[0mx\u001B[0m\u001B[0;34m=\u001B[0m\u001B[0mx_\u001B[0m\u001B[0;34m,\u001B[0m \u001B[0my\u001B[0m\u001B[0;34m=\u001B[0m\u001B[0my_\u001B[0m\u001B[0;34m)\u001B[0m\u001B[0;34m\u001B[0m\u001B[0;34m\u001B[0m\u001B[0m\n\u001B[1;32m     13\u001B[0m \u001B[0mprint\u001B[0m\u001B[0;34m(\u001B[0m\u001B[0mcoef_\u001B[0m\u001B[0;34m)\u001B[0m\u001B[0;34m\u001B[0m\u001B[0;34m\u001B[0m\u001B[0m\n\u001B[0;32m---> 14\u001B[0;31m \u001B[0mcoef_\u001B[0m\u001B[0;34m[\u001B[0m\u001B[0;34m\"id\"\u001B[0m\u001B[0;34m]\u001B[0m \u001B[0;34m=\u001B[0m \u001B[0mid_\u001B[0m\u001B[0;34m\u001B[0m\u001B[0;34m\u001B[0m\u001B[0m\n\u001B[0m\u001B[1;32m     15\u001B[0m \u001B[0;31m#newrow = newrow.reshape(-1,1)\u001B[0m\u001B[0;34m\u001B[0m\u001B[0;34m\u001B[0m\u001B[0;34m\u001B[0m\u001B[0m\n\u001B[1;32m     16\u001B[0m \u001B[0mprint\u001B[0m\u001B[0;34m(\u001B[0m\u001B[0mnewrow\u001B[0m\u001B[0;34m)\u001B[0m\u001B[0;34m\u001B[0m\u001B[0;34m\u001B[0m\u001B[0m\n",
      "\u001B[0;31mIndexError\u001B[0m: only integers, slices (`:`), ellipsis (`...`), numpy.newaxis (`None`) and integer or boolean arrays are valid indices"
     ]
    }
   ],
   "source": [
    "ncols = df.shape[1]\n",
    "#print(ncols)\n",
    "x_ = np.array(df.iloc[:,0])\n",
    "x_ = x_.reshape(-1,1)\n",
    "#print(x_)\n",
    "coef_df = pd.DataFrame()\n",
    "col = 1\n",
    "y_ = np.array(df.iloc[:,col])\n",
    "#print(y_)\n",
    "id_ = df.columns.values[col]\n",
    "#print(id_)\n",
    "coef_ = PolyRegression(degree=2, x=x_, y=y_)\n",
    "print(coef_)\n",
    "row = pd.DataFrame(coef_)\n",
    "coef_[\"id\"] = id_\n",
    "#newrow = newrow.reshape(-1,1)\n",
    "print(newrow)\n",
    "newrow = pd.DataFrame(newrow)\n",
    "coef_df = coef_df.append(newrow)\n",
    "print(coef_df)"
   ]
  },
  {
   "cell_type": "code",
   "execution_count": 45,
   "metadata": {},
   "outputs": [
    {
     "name": "stdout",
     "output_type": "stream",
     "text": [
      "5\n"
     ]
    }
   ],
   "source": [
    "print(df.shape[1])"
   ]
  },
  {
   "cell_type": "code",
   "execution_count": null,
   "metadata": {},
   "outputs": [],
   "source": []
  }
 ],
 "metadata": {
  "kernelspec": {
   "display_name": "Python 3",
   "language": "python",
   "name": "python3"
  },
  "language_info": {
   "codemirror_mode": {
    "name": "ipython",
    "version": 3
   },
   "file_extension": ".py",
   "mimetype": "text/x-python",
   "name": "python",
   "nbconvert_exporter": "python",
   "pygments_lexer": "ipython3",
   "version": "3.8.3"
  }
 },
 "nbformat": 4,
 "nbformat_minor": 1
}